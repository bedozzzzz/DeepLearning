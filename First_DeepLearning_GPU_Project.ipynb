{
  "nbformat": 4,
  "nbformat_minor": 0,
  "metadata": {
    "colab": {
      "name": "First_DeepLearning_GPU_Project.ipynb",
      "version": "0.3.2",
      "provenance": [],
      "collapsed_sections": [],
      "include_colab_link": true
    },
    "kernelspec": {
      "name": "python3",
      "display_name": "Python 3"
    },
    "accelerator": "GPU"
  },
  "cells": [
    {
      "cell_type": "markdown",
      "metadata": {
        "id": "view-in-github",
        "colab_type": "text"
      },
      "source": [
        "<a href=\"https://colab.research.google.com/github/bedozzzzz/DeepLearning/blob/master/First_DeepLearning_GPU_Project.ipynb\" target=\"_parent\"><img src=\"https://colab.research.google.com/assets/colab-badge.svg\" alt=\"Open In Colab\"/></a>"
      ]
    },
    {
      "metadata": {
        "id": "Md9kqAIDoF3h",
        "colab_type": "code",
        "outputId": "7476cce9-93df-4fb1-b1f8-70b675a9c744",
        "colab": {
          "base_uri": "https://localhost:8080/",
          "height": 55
        }
      },
      "cell_type": "code",
      "source": [
        "# http://pytorch.org/\n",
        "from os.path import exists\n",
        "from wheel.pep425tags import get_abbr_impl, get_impl_ver, get_abi_tag\n",
        "platform = '{}{}-{}'.format(get_abbr_impl(), get_impl_ver(), get_abi_tag())\n",
        "cuda_output = !ldconfig -p|grep cudart.so|sed -e 's/.*\\.\\([0-9]*\\)\\.\\([0-9]*\\)$/cu\\1\\2/'\n",
        "accelerator = cuda_output[0] if exists('/dev/nvidia0') else 'cpu'\n",
        "\n",
        "!pip install -q http://download.pytorch.org/whl/{accelerator}/torch-0.4.1-{platform}-linux_x86_64.whl torchvision\n",
        "import torch"
      ],
      "execution_count": 0,
      "outputs": [
        {
          "output_type": "stream",
          "text": [
            "tcmalloc: large alloc 1073750016 bytes == 0x581ee000 @  0x7fb902ceb2a4 0x591a07 0x5b5d56 0x502e9a 0x506859 0x502209 0x502f3d 0x506859 0x504c28 0x502540 0x502f3d 0x506859 0x504c28 0x502540 0x502f3d 0x506859 0x504c28 0x502540 0x502f3d 0x507641 0x502209 0x502f3d 0x506859 0x504c28 0x502540 0x502f3d 0x507641 0x504c28 0x502540 0x502f3d 0x507641\n"
          ],
          "name": "stdout"
        }
      ]
    },
    {
      "metadata": {
        "id": "ryNi38apoBnL",
        "colab_type": "code",
        "outputId": "4c58d210-9021-47d5-cada-2b00057d0a0a",
        "colab": {
          "base_uri": "https://localhost:8080/",
          "height": 284
        }
      },
      "cell_type": "code",
      "source": [
        "import numpy as np\n",
        "import pandas as pd\n",
        "###############################################################3\n",
        "# 1-D tensors #\n",
        "#################################\n",
        "a=np.array([0.0,1.0,2.0,3.0,4.0])\n",
        "b=torch.from_numpy(a)\n",
        "b_col=b.view(-1,1)\n",
        "c=torch.tensor([1,2,3,4])\n",
        "c.type()\n",
        "type(c)\n",
        "c.dtype\n",
        "back_to_numpy=b.numpy()\n",
        "back_to_numpy+=1 #the changes also alter b --> coz back_to_numpy is alias for b tensor but with numpy array type \n",
        "d=pd.Series([0.1,0.2,0.3,0.4])\n",
        "type(d.values) #--> numpy.ndarray\n",
        "e=torch.from_numpy(d.values)  #--> from ndarray to torch.tensor\n",
        "e[0]=1.1 #indexing \n",
        "e # tensor([1.1,0.2...])\n",
        "ee=e[1:2] # up to but not including\n",
        "e[0:3]=torch.tensor([5.5,5.3,4.2])\n",
        "a+b  # arithmatic on tensors ( must be the same size (element by element)) casting int+float -> float # tensor+ndaraay\n",
        "b*2 # tensor*scalar\n",
        "a*b # hadamard product ( element by element) . ndaraay*tensor , tensor*tensor\n",
        "type(a*b) # --> torch tensor\n",
        "a=torch.from_numpy(a)\n",
        "dot_product=torch.dot(a,b)  # --> tensor(55., dtype=torch.float65) (1-D torch)\n",
        "concate=torch.cat((a,b)) # concatenating 2 tensors\n",
        "e=torch.cat((e,torch.tensor([1.0],dtype=torch.float64))) # appending only vaild for same type tensors\n",
        "ee=torch.tensor([1,2,3,4,5])\n",
        "#eee=torch.cat([ee,e]) >>> error , not the same type\n",
        "e.mean() # -> tensor(3.280 , dtype=torch.float64)\n",
        "e.max()\n",
        "f=torch.tensor([0,np.pi/2,np.pi])\n",
        "sinf=torch.sin(f) \n",
        "g=torch.linspace(-2,2,steps=5) #\"steps\" == Number of samples -- increment by 1 -- out--> tensor([-2. , -1. , 0. , 1. , 2.])\n",
        "import matplotlib.pyplot as plt\n",
        "h=torch.linspace(0,2*np.pi,100)\n",
        "sinh=torch.sin(h)\n",
        "%matplotlib inline \n",
        "plt.plot(h.numpy(),sinh.numpy()) # --> sin graph  \n",
        "###########################################################\n",
        "2-D Tensors\n",
        "##############################\n",
        "###\n",
        "\n",
        "\n",
        "\n",
        "\n",
        " \n",
        "\n",
        "\n",
        "\n",
        "\n",
        "\n",
        " \n"
      ],
      "execution_count": 0,
      "outputs": [
        {
          "output_type": "execute_result",
          "data": {
            "text/plain": [
              "[<matplotlib.lines.Line2D at 0x7f269cee3c50>]"
            ]
          },
          "metadata": {
            "tags": []
          },
          "execution_count": 137
        },
        {
          "output_type": "display_data",
          "data": {
            "image/png": "[encoded data removed]",
            "text/plain": [
              "<matplotlib.figure.Figure at 0x7f269cf06cc0>"
            ]
          },
          "metadata": {
            "tags": []
          }
        }
      ]
    },
    {
      "metadata": {
        "id": "8VM5uJhJomJH",
        "colab_type": "code",
        "colab": {}
      },
      "cell_type": "code",
      "source": [
        "    "
      ],
      "execution_count": 0,
      "outputs": []
    }
  ]
}